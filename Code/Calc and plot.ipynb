{
 "cells": [
  {
   "cell_type": "code",
   "execution_count": null,
   "metadata": {
    "scrolled": true
   },
   "outputs": [],
   "source": [
    "%matplotlib inline\n",
    "\n",
    "from bokeh.plotting import output_notebook, figure, show\n",
    "from bokeh.io import push_notebook, export_svgs\n",
    "from bokeh.layouts import column\n",
    "from ipywidgets import interact\n",
    "import numpy\n",
    "import selenium"
   ]
  },
  {
   "cell_type": "markdown",
   "metadata": {},
   "source": [
    "## Functions for computation f(x,y) and y(x) for Euler method"
   ]
  },
  {
   "cell_type": "code",
   "execution_count": null,
   "metadata": {},
   "outputs": [],
   "source": [
    "def compute_f_euler(x, y):  # f(xi, yi) = sin^2(xi) + yi*ctg(xi)\n",
    "    return numpy.sin(x)**2 + y * (numpy.cos(x) / numpy.sin(x))\n",
    "\n",
    "def compute_y_euler(last_y, last_f, h):  # yi+1 = yi + h*f(xi, yi)\n",
    "    return last_f * h + last_y"
   ]
  },
  {
   "cell_type": "markdown",
   "metadata": {},
   "source": [
    "## Functions for computation f(x,y) and y(x) for Improved Euler method"
   ]
  },
  {
   "cell_type": "code",
   "execution_count": null,
   "metadata": {},
   "outputs": [],
   "source": [
    "def compute_f_euler_imp(x, y):  # f(xi, yi) = sin^2(xi) + yi*ctg(xi)\n",
    "    return numpy.sin(x) ** 2 + y * (numpy.cos(x) / numpy.sin(x))\n",
    "\n",
    "def compute_y_euler_imp(last_y, last_f, h):  # yi+1 = yi + h*f(xi + h/2, yi + h/2 * f(xi, yi))\n",
    "    return last_f * h + last_y\n"
   ]
  },
  {
   "cell_type": "markdown",
   "metadata": {},
   "source": [
    "## Functions for computation f(x,y) and y(x) for Runge-Kutta method"
   ]
  },
  {
   "cell_type": "code",
   "execution_count": null,
   "metadata": {},
   "outputs": [],
   "source": [
    "def compute_f_run(x, y):  # f(xi, yi) = sin^2(xi) + yi*ctg(xi)\n",
    "    return numpy.sin(x) ** 2 + y * (numpy.cos(x) / numpy.sin(x))\n",
    "\n",
    "def compute_y_run(last_y, last_f, h):  # yi+1 = yi + h/6 * (k1 + 2*k2 + 2*k3 + k4)\n",
    "    return last_f * (h / 6) + last_y\n"
   ]
  },
  {
   "cell_type": "markdown",
   "metadata": {},
   "source": [
    "## Compute x"
   ]
  },
  {
   "cell_type": "code",
   "execution_count": null,
   "metadata": {},
   "outputs": [],
   "source": [
    "def find_x(x0, X, h):\n",
    "    return numpy.linspace(x0, X, int((X - x0) / h) + 1)  # Create array of x values with step h\n"
   ]
  },
  {
   "cell_type": "markdown",
   "metadata": {},
   "source": [
    "## Exact solution of the given function"
   ]
  },
  {
   "cell_type": "code",
   "execution_count": null,
   "metadata": {},
   "outputs": [],
   "source": [
    "def exact(x0, y0, X, h):\n",
    "    x = find_x(x0, X, h)\n",
    "    c = (y0 + numpy.sin(x0) * numpy.cos(x0)) / numpy.sin(x0)  # initial value problem\n",
    "    y_exact = -numpy.sin(x) * numpy.cos(x) + c * numpy.sin(x)  # Compute y values\n",
    "    return y_exact\n"
   ]
  },
  {
   "cell_type": "markdown",
   "metadata": {},
   "source": [
    "## Computations for Euler method"
   ]
  },
  {
   "cell_type": "code",
   "execution_count": null,
   "metadata": {},
   "outputs": [],
   "source": [
    "def euler(x0, y0, X, h):\n",
    "    x = find_x(x0, X, h)\n",
    "    # Step 0\n",
    "    # Remember last computed value of yi\n",
    "    last_y = y0\n",
    "\n",
    "    # Remember last computed value of f\n",
    "    last_f = compute_f_euler(x0, y0)\n",
    "\n",
    "    # Create array of y(x) values\n",
    "    y_euler = [y0]\n",
    "\n",
    "    # Step 1..n\n",
    "    for xi in x[1:]:\n",
    "        # Compute y, remember it for the next step\n",
    "        last_y = compute_y_euler(last_y, last_f, h)\n",
    "        y_euler.append(last_y)\n",
    "\n",
    "        # Compute f, remember it for the next step\n",
    "        last_f = compute_f_euler(xi, last_y)\n",
    "    return y_euler\n"
   ]
  },
  {
   "cell_type": "markdown",
   "metadata": {},
   "source": [
    "## Computations for Improved Euler method"
   ]
  },
  {
   "cell_type": "code",
   "execution_count": null,
   "metadata": {},
   "outputs": [],
   "source": [
    "def euler_imp(x0, y0, X, h):\n",
    "    x = find_x(x0, X, h)\n",
    "    # Step 0\n",
    "    # Remember last computed value of yi\n",
    "    last_y_imp = y0\n",
    "\n",
    "    # Remember last computed value of f\n",
    "    last_f_imp = compute_f_euler_imp(x0 + (h / 2),\n",
    "                                     y0 + (h / 2) * compute_f_euler_imp(x0, y0))\n",
    "\n",
    "    # Create array of y(x) values\n",
    "    y_euler_imp = [y0]\n",
    "\n",
    "    # Step 1..n\n",
    "    for xi in x[1:]:\n",
    "        # Compute y, remember it for the next step\n",
    "        last_y_imp = compute_y_euler_imp(last_y_imp, last_f_imp, h)\n",
    "        y_euler_imp.append(last_y_imp)\n",
    "\n",
    "        # Compute f, remember it for the next step\n",
    "        last_f_imp = compute_f_euler_imp(xi + (h / 2),\n",
    "                                         last_y_imp + (h / 2) * compute_f_euler_imp(xi, last_y_imp))\n",
    "    return y_euler_imp\n"
   ]
  },
  {
   "cell_type": "markdown",
   "metadata": {},
   "source": [
    "## Computations for Runge-Kutta method"
   ]
  },
  {
   "cell_type": "code",
   "execution_count": null,
   "metadata": {},
   "outputs": [],
   "source": [
    "def runge_kutta(x0, y0, X, h):\n",
    "    x = find_x(x0, X, h)\n",
    "    # Step 0\n",
    "    # Remember last computed value of yi\n",
    "    last_y_run = y0\n",
    "\n",
    "    # Compute f = k1 + 2*k2 + 2*k3 + k4\n",
    "    k1 = compute_f_run(x0, y0)\n",
    "    k2 = compute_f_run(x0 + (h / 2), y0 + ((h * k1) / 2))\n",
    "    k3 = compute_f_run(x0 + (h / 2), y0 + ((h * k2) / 2))\n",
    "    k4 = compute_f_run(x0 + h, y0 + h * k3)\n",
    "\n",
    "    # Remember last computed value of f\n",
    "    last_f_run = k1 + (2 * k2) + (2 * k3) + k4\n",
    "\n",
    "    # Create array of y(x) values\n",
    "    y_run = [y0]\n",
    "\n",
    "    # Step 1..n\n",
    "    for xi in x[1:]:\n",
    "        # Compute y, remember it for the next step\n",
    "        last_y_run = compute_y_run(last_y_run, last_f_run, h)\n",
    "        y_run.append(last_y_run)\n",
    "\n",
    "        # Compute f = k1 + 2*k2 + 2*k3 + k4\n",
    "        k1 = compute_f_run(xi, last_y_run)\n",
    "        k2 = compute_f_run(xi + (h / 2), last_y_run + ((h * k1) / 2))\n",
    "        k3 = compute_f_run(xi + (h / 2), last_y_run + ((h * k2) / 2))\n",
    "        k4 = compute_f_run(xi + h, last_y_run + h * k3)\n",
    "\n",
    "        # Compute f, remember it for the next step\n",
    "        last_f_run = k1 + (2 * k2) + (2 * k3) + k4\n",
    "    return y_run\n"
   ]
  },
  {
   "cell_type": "markdown",
   "metadata": {},
   "source": [
    "## Computation of global errors"
   ]
  },
  {
   "cell_type": "code",
   "execution_count": null,
   "metadata": {},
   "outputs": [],
   "source": [
    "def global_error(x0, y0, X, step0, stepMax, step_of_steps, x_func, y_exact_func, y_euler_func, y_imp_euler_func, y_runge_kutta_func):\n",
    "    step = numpy.linspace(step0, stepMax, int((stepMax - step0) / step_of_steps) + 1)\n",
    "    euler_error = []\n",
    "    imp_euler_error = []\n",
    "    runge_kutta_error = []\n",
    "    for i in step:\n",
    "        y_exact = y_exact_func(x0, y0, X, i)\n",
    "        y_euler = y_euler_func(x0, y0, X, i)\n",
    "        y_euler_imp = y_imp_euler_func(x0, y0, X, i)\n",
    "        y_run = y_runge_kutta_func(x0, y0, X, i)\n",
    "        euler_error.append(max(abs(y_exact - y_euler)))\n",
    "        imp_euler_error.append(max(abs(y_exact - y_euler_imp)))\n",
    "        runge_kutta_error.append(max(abs(y_exact - y_run)))\n",
    "    return euler_error, imp_euler_error, runge_kutta_error"
   ]
  },
  {
   "cell_type": "markdown",
   "metadata": {},
   "source": [
    "## Compute results"
   ]
  },
  {
   "cell_type": "code",
   "execution_count": null,
   "metadata": {},
   "outputs": [],
   "source": [
    "x0 = 1\n",
    "y0 = 1\n",
    "X = 3\n",
    "h = 0.1\n",
    "step0 = 0.0001\n",
    "stepMax = 1\n",
    "step_of_steps = 0.0001\n",
    "\n",
    "x = find_x(x0, X, h)\n",
    "y_exact = exact(x0, y0, X, h)\n",
    "y_euler = euler(x0, y0, X, h)\n",
    "y_euler_imp = euler_imp(x0, y0, X, h)\n",
    "y_run = runge_kutta(x0, y0, X, h)\n",
    "\n",
    "steps = numpy.linspace(step0, stepMax, int((stepMax - step0) / step_of_steps) + 1)\n",
    "euler_error, imp_euler_error, runge_kutta_error = global_error(x0, y0, X, step0, stepMax, step_of_steps, find_x, exact, euler, euler_imp, runge_kutta)\n"
   ]
  },
  {
   "cell_type": "markdown",
   "metadata": {},
   "source": [
    "## Compose the plot and errors"
   ]
  },
  {
   "cell_type": "code",
   "execution_count": null,
   "metadata": {
    "scrolled": false
   },
   "outputs": [],
   "source": [
    "output_notebook()"
   ]
  },
  {
   "cell_type": "code",
   "execution_count": null,
   "metadata": {
    "scrolled": false
   },
   "outputs": [],
   "source": [
    "p1 = figure(title=\"Numerical methods\", x_axis_label='x', y_axis_label='y')\n",
    "\n",
    "a = p1.line(x, y_exact, legend=\"Exact solution\", line_width=2, line_color=\"#FF0000\")\n",
    "b = p1.line(x, y_euler, legend=\"Euler method\", line_width=2, line_color=\"#00FF00\")\n",
    "c = p1.line(x, y_euler_imp, legend=\"Improved Euler method\", line_width=2, line_color=\"#0000FF\")\n",
    "d = p1.line(x, y_run, legend=\"Runge-Kutta method\", line_width=2, line_color=\"#FF00FF\")\n",
    "\n",
    "p2 = figure(title=\"Errors of methods\", x_axis_label='step', y_axis_label='error')\n",
    "\n",
    "e = p2.line(steps, euler_error, legend=\"Error of Euler\", line_width=2, line_color=\"#FF0000\")\n",
    "f = p2.line(steps, imp_euler_error, legend=\"Error of improved Euler\", line_width=2, line_color=\"#00FF00\")\n",
    "g = p2.line(steps, runge_kutta_error, legend=\"Error of Runge-Kutta\", line_width=2, line_color=\"#0000FF\")\n",
    "\n",
    "p3 = figure(title=\"Numerical methods\", x_axis_label='x', y_axis_label='y')\n",
    "\n",
    "p3.line(x, y_exact, legend=\"Exact solution\", line_width=2, line_color=\"#FF0000\")\n",
    "p3.line(x, y_euler, legend=\"Euler method\", line_width=2, line_color=\"#00FF00\")\n",
    "p3.line(x, y_euler_imp, legend=\"Improved Euler method\", line_width=2, line_color=\"#0000FF\")\n",
    "p3.line(x, y_run, legend=\"Runge-Kutta method\", line_width=2, line_color=\"#FF00FF\")\n",
    "\n",
    "\n",
    "p1.legend.location = \"bottom_left\"\n",
    "p2.legend.location = \"top_left\"\n",
    "p3.legend.location = \"top_left\"\n",
    "p1.legend.click_policy = \"hide\"\n",
    "p2.output_backend = \"svg\"\n",
    "p3.output_backend = \"svg\"\n",
    "\n",
    "export_svgs(p3, \"Numerical methods.svg\", height=2500, width=2500)\n",
    "export_svgs(p2, \"Errors for methods.svg\", height=2500, width=2500)"
   ]
  },
  {
   "cell_type": "markdown",
   "metadata": {},
   "source": [
    "## Update the plot"
   ]
  },
  {
   "cell_type": "code",
   "execution_count": null,
   "metadata": {},
   "outputs": [],
   "source": [
    "def update(InitialX='1', InitialY='1', MaxX='3', Step='0.1'):\n",
    "    if InitialX == '' or InitialY == '' or MaxX == '' or Step == '':\n",
    "        return\n",
    "    x0 = int(InitialX)\n",
    "    y0 = int(InitialY)\n",
    "    X = int(MaxX)\n",
    "    h = float(Step)\n",
    "    if X <= x0:\n",
    "        return\n",
    "    if h <= 0:\n",
    "        return\n",
    "    x = find_x(x0, X, h)\n",
    "    y_exact = exact(x0, y0, X, h)\n",
    "    y_euler = euler(x0, y0, X, h)\n",
    "    y_euler_imp = euler_imp(x0, y0, X, h)\n",
    "    y_run = runge_kutta(x0, y0, X, h)\n",
    "\n",
    "    a_dict = {'x': x, 'y': y_exact}\n",
    "    b_dict = {'x': x, 'y': y_euler}\n",
    "    c_dict = {'x': x, 'y': y_euler_imp}\n",
    "    d_dict = {'x': x, 'y': y_run}\n",
    "\n",
    "    a.data_source.data = a_dict\n",
    "    b.data_source.data = b_dict\n",
    "    c.data_source.data = c_dict\n",
    "    d.data_source.data = d_dict\n",
    "\n",
    "    push_notebook()"
   ]
  },
  {
   "cell_type": "code",
   "execution_count": null,
   "metadata": {
    "scrolled": true
   },
   "outputs": [],
   "source": [
    "show(p1, notebook_handle=True)"
   ]
  },
  {
   "cell_type": "code",
   "execution_count": null,
   "metadata": {
    "scrolled": true
   },
   "outputs": [],
   "source": [
    "interact(update, x0='1', y0='1', X='3', h='0.1')"
   ]
  }
 ],
 "metadata": {
  "kernelspec": {
   "display_name": "Python 3",
   "language": "python",
   "name": "python3"
  },
  "language_info": {
   "codemirror_mode": {
    "name": "ipython",
    "version": 3
   },
   "file_extension": ".py",
   "mimetype": "text/x-python",
   "name": "python",
   "nbconvert_exporter": "python",
   "pygments_lexer": "ipython3",
   "version": "3.7.0"
  }
 },
 "nbformat": 4,
 "nbformat_minor": 1
}
