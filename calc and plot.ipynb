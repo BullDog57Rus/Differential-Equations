{
 "cells": [
  {
   "cell_type": "code",
   "execution_count": 1,
   "metadata": {},
   "outputs": [
    {
     "ename": "ModuleNotFoundError",
     "evalue": "No module named 'matplotlib'",
     "traceback": [
      "\u001b[0;31m---------------------------------------------------------------------------\u001b[0m",
      "\u001b[0;31mModuleNotFoundError\u001b[0m                       Traceback (most recent call last)",
      "\u001b[0;32m<ipython-input-1-73794c1403b5>\u001b[0m in \u001b[0;36m<module>\u001b[0;34m()\u001b[0m\n\u001b[0;32m----> 1\u001b[0;31m \u001b[0mget_ipython\u001b[0m\u001b[0;34m(\u001b[0m\u001b[0;34m)\u001b[0m\u001b[0;34m.\u001b[0m\u001b[0mmagic\u001b[0m\u001b[0;34m(\u001b[0m\u001b[0;34m'matplotlib inline'\u001b[0m\u001b[0;34m)\u001b[0m\u001b[0;34m\u001b[0m\u001b[0m\n\u001b[0m\u001b[1;32m      2\u001b[0m \u001b[0;34m\u001b[0m\u001b[0m\n\u001b[1;32m      3\u001b[0m \u001b[0;32mfrom\u001b[0m \u001b[0mbokeh\u001b[0m\u001b[0;34m.\u001b[0m\u001b[0mplotting\u001b[0m \u001b[0;32mimport\u001b[0m \u001b[0moutput_notebook\u001b[0m\u001b[0;34m,\u001b[0m \u001b[0mfigure\u001b[0m\u001b[0;34m,\u001b[0m \u001b[0mshow\u001b[0m\u001b[0;34m\u001b[0m\u001b[0m\n\u001b[1;32m      4\u001b[0m \u001b[0;32mfrom\u001b[0m \u001b[0mbokeh\u001b[0m\u001b[0;34m.\u001b[0m\u001b[0mio\u001b[0m \u001b[0;32mimport\u001b[0m \u001b[0mpush_notebook\u001b[0m\u001b[0;34m,\u001b[0m \u001b[0mexport_svgs\u001b[0m\u001b[0;34m\u001b[0m\u001b[0m\n\u001b[1;32m      5\u001b[0m \u001b[0;32mfrom\u001b[0m \u001b[0mbokeh\u001b[0m\u001b[0;34m.\u001b[0m\u001b[0mlayouts\u001b[0m \u001b[0;32mimport\u001b[0m \u001b[0mcolumn\u001b[0m\u001b[0;34m\u001b[0m\u001b[0m\n",
      "\u001b[0;32m/Users/maximsalo/Desktop/DE/venv/lib/python3.7/site-packages/IPython/core/interactiveshell.py\u001b[0m in \u001b[0;36mmagic\u001b[0;34m(self, arg_s)\u001b[0m\n\u001b[1;32m   2144\u001b[0m         \u001b[0mmagic_name\u001b[0m\u001b[0;34m,\u001b[0m \u001b[0m_\u001b[0m\u001b[0;34m,\u001b[0m \u001b[0mmagic_arg_s\u001b[0m \u001b[0;34m=\u001b[0m \u001b[0marg_s\u001b[0m\u001b[0;34m.\u001b[0m\u001b[0mpartition\u001b[0m\u001b[0;34m(\u001b[0m\u001b[0;34m' '\u001b[0m\u001b[0;34m)\u001b[0m\u001b[0;34m\u001b[0m\u001b[0m\n\u001b[1;32m   2145\u001b[0m         \u001b[0mmagic_name\u001b[0m \u001b[0;34m=\u001b[0m \u001b[0mmagic_name\u001b[0m\u001b[0;34m.\u001b[0m\u001b[0mlstrip\u001b[0m\u001b[0;34m(\u001b[0m\u001b[0mprefilter\u001b[0m\u001b[0;34m.\u001b[0m\u001b[0mESC_MAGIC\u001b[0m\u001b[0;34m)\u001b[0m\u001b[0;34m\u001b[0m\u001b[0m\n\u001b[0;32m-> 2146\u001b[0;31m         \u001b[0;32mreturn\u001b[0m \u001b[0mself\u001b[0m\u001b[0;34m.\u001b[0m\u001b[0mrun_line_magic\u001b[0m\u001b[0;34m(\u001b[0m\u001b[0mmagic_name\u001b[0m\u001b[0;34m,\u001b[0m \u001b[0mmagic_arg_s\u001b[0m\u001b[0;34m)\u001b[0m\u001b[0;34m\u001b[0m\u001b[0m\n\u001b[0m\u001b[1;32m   2147\u001b[0m \u001b[0;34m\u001b[0m\u001b[0m\n\u001b[1;32m   2148\u001b[0m     \u001b[0;31m#-------------------------------------------------------------------------\u001b[0m\u001b[0;34m\u001b[0m\u001b[0;34m\u001b[0m\u001b[0m\n",
      "\u001b[0;32m/Users/maximsalo/Desktop/DE/venv/lib/python3.7/site-packages/IPython/core/interactiveshell.py\u001b[0m in \u001b[0;36mrun_line_magic\u001b[0;34m(self, magic_name, line)\u001b[0m\n\u001b[1;32m   2065\u001b[0m                 \u001b[0mkwargs\u001b[0m\u001b[0;34m[\u001b[0m\u001b[0;34m'local_ns'\u001b[0m\u001b[0;34m]\u001b[0m \u001b[0;34m=\u001b[0m \u001b[0msys\u001b[0m\u001b[0;34m.\u001b[0m\u001b[0m_getframe\u001b[0m\u001b[0;34m(\u001b[0m\u001b[0mstack_depth\u001b[0m\u001b[0;34m)\u001b[0m\u001b[0;34m.\u001b[0m\u001b[0mf_locals\u001b[0m\u001b[0;34m\u001b[0m\u001b[0m\n\u001b[1;32m   2066\u001b[0m             \u001b[0;32mwith\u001b[0m \u001b[0mself\u001b[0m\u001b[0;34m.\u001b[0m\u001b[0mbuiltin_trap\u001b[0m\u001b[0;34m:\u001b[0m\u001b[0;34m\u001b[0m\u001b[0m\n\u001b[0;32m-> 2067\u001b[0;31m                 \u001b[0mresult\u001b[0m \u001b[0;34m=\u001b[0m \u001b[0mfn\u001b[0m\u001b[0;34m(\u001b[0m\u001b[0;34m*\u001b[0m\u001b[0margs\u001b[0m\u001b[0;34m,\u001b[0m\u001b[0;34m**\u001b[0m\u001b[0mkwargs\u001b[0m\u001b[0;34m)\u001b[0m\u001b[0;34m\u001b[0m\u001b[0m\n\u001b[0m\u001b[1;32m   2068\u001b[0m             \u001b[0;32mreturn\u001b[0m \u001b[0mresult\u001b[0m\u001b[0;34m\u001b[0m\u001b[0m\n\u001b[1;32m   2069\u001b[0m \u001b[0;34m\u001b[0m\u001b[0m\n",
      "\u001b[0;32m<decorator-gen-104>\u001b[0m in \u001b[0;36mmatplotlib\u001b[0;34m(self, line)\u001b[0m\n",
      "\u001b[0;32m/Users/maximsalo/Desktop/DE/venv/lib/python3.7/site-packages/IPython/core/magic.py\u001b[0m in \u001b[0;36m<lambda>\u001b[0;34m(f, *a, **k)\u001b[0m\n\u001b[1;32m    186\u001b[0m     \u001b[0;31m# but it's overkill for just that one bit of state.\u001b[0m\u001b[0;34m\u001b[0m\u001b[0;34m\u001b[0m\u001b[0m\n\u001b[1;32m    187\u001b[0m     \u001b[0;32mdef\u001b[0m \u001b[0mmagic_deco\u001b[0m\u001b[0;34m(\u001b[0m\u001b[0marg\u001b[0m\u001b[0;34m)\u001b[0m\u001b[0;34m:\u001b[0m\u001b[0;34m\u001b[0m\u001b[0m\n\u001b[0;32m--> 188\u001b[0;31m         \u001b[0mcall\u001b[0m \u001b[0;34m=\u001b[0m \u001b[0;32mlambda\u001b[0m \u001b[0mf\u001b[0m\u001b[0;34m,\u001b[0m \u001b[0;34m*\u001b[0m\u001b[0ma\u001b[0m\u001b[0;34m,\u001b[0m \u001b[0;34m**\u001b[0m\u001b[0mk\u001b[0m\u001b[0;34m:\u001b[0m \u001b[0mf\u001b[0m\u001b[0;34m(\u001b[0m\u001b[0;34m*\u001b[0m\u001b[0ma\u001b[0m\u001b[0;34m,\u001b[0m \u001b[0;34m**\u001b[0m\u001b[0mk\u001b[0m\u001b[0;34m)\u001b[0m\u001b[0;34m\u001b[0m\u001b[0m\n\u001b[0m\u001b[1;32m    189\u001b[0m \u001b[0;34m\u001b[0m\u001b[0m\n\u001b[1;32m    190\u001b[0m         \u001b[0;32mif\u001b[0m \u001b[0mcallable\u001b[0m\u001b[0;34m(\u001b[0m\u001b[0marg\u001b[0m\u001b[0;34m)\u001b[0m\u001b[0;34m:\u001b[0m\u001b[0;34m\u001b[0m\u001b[0m\n",
      "\u001b[0;32m/Users/maximsalo/Desktop/DE/venv/lib/python3.7/site-packages/IPython/core/magics/pylab.py\u001b[0m in \u001b[0;36mmatplotlib\u001b[0;34m(self, line)\u001b[0m\n\u001b[1;32m     98\u001b[0m             \u001b[0mprint\u001b[0m\u001b[0;34m(\u001b[0m\u001b[0;34m\"Available matplotlib backends: %s\"\u001b[0m \u001b[0;34m%\u001b[0m \u001b[0mbackends_list\u001b[0m\u001b[0;34m)\u001b[0m\u001b[0;34m\u001b[0m\u001b[0m\n\u001b[1;32m     99\u001b[0m         \u001b[0;32melse\u001b[0m\u001b[0;34m:\u001b[0m\u001b[0;34m\u001b[0m\u001b[0m\n\u001b[0;32m--> 100\u001b[0;31m             \u001b[0mgui\u001b[0m\u001b[0;34m,\u001b[0m \u001b[0mbackend\u001b[0m \u001b[0;34m=\u001b[0m \u001b[0mself\u001b[0m\u001b[0;34m.\u001b[0m\u001b[0mshell\u001b[0m\u001b[0;34m.\u001b[0m\u001b[0menable_matplotlib\u001b[0m\u001b[0;34m(\u001b[0m\u001b[0margs\u001b[0m\u001b[0;34m.\u001b[0m\u001b[0mgui\u001b[0m\u001b[0;34m)\u001b[0m\u001b[0;34m\u001b[0m\u001b[0m\n\u001b[0m\u001b[1;32m    101\u001b[0m             \u001b[0mself\u001b[0m\u001b[0;34m.\u001b[0m\u001b[0m_show_matplotlib_backend\u001b[0m\u001b[0;34m(\u001b[0m\u001b[0margs\u001b[0m\u001b[0;34m.\u001b[0m\u001b[0mgui\u001b[0m\u001b[0;34m,\u001b[0m \u001b[0mbackend\u001b[0m\u001b[0;34m)\u001b[0m\u001b[0;34m\u001b[0m\u001b[0m\n\u001b[1;32m    102\u001b[0m \u001b[0;34m\u001b[0m\u001b[0m\n",
      "\u001b[0;32m/Users/maximsalo/Desktop/DE/venv/lib/python3.7/site-packages/IPython/core/interactiveshell.py\u001b[0m in \u001b[0;36menable_matplotlib\u001b[0;34m(self, gui)\u001b[0m\n\u001b[1;32m   2921\u001b[0m         \"\"\"\n\u001b[1;32m   2922\u001b[0m         \u001b[0;32mfrom\u001b[0m \u001b[0mIPython\u001b[0m\u001b[0;34m.\u001b[0m\u001b[0mcore\u001b[0m \u001b[0;32mimport\u001b[0m \u001b[0mpylabtools\u001b[0m \u001b[0;32mas\u001b[0m \u001b[0mpt\u001b[0m\u001b[0;34m\u001b[0m\u001b[0m\n\u001b[0;32m-> 2923\u001b[0;31m         \u001b[0mgui\u001b[0m\u001b[0;34m,\u001b[0m \u001b[0mbackend\u001b[0m \u001b[0;34m=\u001b[0m \u001b[0mpt\u001b[0m\u001b[0;34m.\u001b[0m\u001b[0mfind_gui_and_backend\u001b[0m\u001b[0;34m(\u001b[0m\u001b[0mgui\u001b[0m\u001b[0;34m,\u001b[0m \u001b[0mself\u001b[0m\u001b[0;34m.\u001b[0m\u001b[0mpylab_gui_select\u001b[0m\u001b[0;34m)\u001b[0m\u001b[0;34m\u001b[0m\u001b[0m\n\u001b[0m\u001b[1;32m   2924\u001b[0m \u001b[0;34m\u001b[0m\u001b[0m\n\u001b[1;32m   2925\u001b[0m         \u001b[0;32mif\u001b[0m \u001b[0mgui\u001b[0m \u001b[0;34m!=\u001b[0m \u001b[0;34m'inline'\u001b[0m\u001b[0;34m:\u001b[0m\u001b[0;34m\u001b[0m\u001b[0m\n",
      "\u001b[0;32m/Users/maximsalo/Desktop/DE/venv/lib/python3.7/site-packages/IPython/core/pylabtools.py\u001b[0m in \u001b[0;36mfind_gui_and_backend\u001b[0;34m(gui, gui_select)\u001b[0m\n\u001b[1;32m    258\u001b[0m     \"\"\"\n\u001b[1;32m    259\u001b[0m \u001b[0;34m\u001b[0m\u001b[0m\n\u001b[0;32m--> 260\u001b[0;31m     \u001b[0;32mimport\u001b[0m \u001b[0mmatplotlib\u001b[0m\u001b[0;34m\u001b[0m\u001b[0m\n\u001b[0m\u001b[1;32m    261\u001b[0m \u001b[0;34m\u001b[0m\u001b[0m\n\u001b[1;32m    262\u001b[0m     \u001b[0;32mif\u001b[0m \u001b[0mgui\u001b[0m \u001b[0;32mand\u001b[0m \u001b[0mgui\u001b[0m \u001b[0;34m!=\u001b[0m \u001b[0;34m'auto'\u001b[0m\u001b[0;34m:\u001b[0m\u001b[0;34m\u001b[0m\u001b[0m\n",
      "\u001b[0;31mModuleNotFoundError\u001b[0m: No module named 'matplotlib'"
     ],
     "output_type": "error"
    }
   ],
   "source": [
    "%matplotlib inline\n",
    "\n",
    "from bokeh.plotting import output_notebook, figure, show\n",
    "from bokeh.io import push_notebook, export_svgs\n",
    "from bokeh.layouts import column\n",
    "from ipywidgets import interact\n",
    "import numpy\n",
    "import selenium"
   ]
  },
  {
   "cell_type": "markdown",
   "metadata": {},
   "source": [
    "## Functions for computation f(x,y) and y(x) for Euler method"
   ]
  },
  {
   "cell_type": "code",
   "execution_count": null,
   "metadata": {},
   "outputs": [],
   "source": [
    "def compute_f_euler(x, y):  # f(xi, yi) = sin^2(xi) + yi*ctg(xi)\n",
    "    return numpy.sin(x)**2 + y * (numpy.cos(x) / numpy.sin(x))\n",
    "\n",
    "def compute_y_euler(last_y, last_f, h):  # yi+1 = yi + h*f(xi, yi)\n",
    "    return last_f * h + last_y"
   ]
  },
  {
   "cell_type": "markdown",
   "metadata": {},
   "source": [
    "## Functions for computation f(x,y) and y(x) for Improved Euler method"
   ]
  },
  {
   "cell_type": "code",
   "execution_count": null,
   "metadata": {},
   "outputs": [],
   "source": [
    "def compute_f_euler_imp(x, y):  # f(xi, yi) = sin^2(xi) + yi*ctg(xi)\n",
    "    return numpy.sin(x) ** 2 + y * (numpy.cos(x) / numpy.sin(x))\n",
    "\n",
    "def compute_y_euler_imp(last_y, last_f, h):  # yi+1 = yi + h*f(xi + h/2, yi + h/2 * f(xi, yi))\n",
    "    return last_f * h + last_y\n"
   ]
  },
  {
   "cell_type": "markdown",
   "metadata": {},
   "source": [
    "## Functions for computation f(x,y) and y(x) for Runge-Kutta method"
   ]
  },
  {
   "cell_type": "code",
   "execution_count": null,
   "metadata": {},
   "outputs": [],
   "source": [
    "def compute_f_run(x, y):  # f(xi, yi) = sin^2(xi) + yi*ctg(xi)\n",
    "    return numpy.sin(x) ** 2 + y * (numpy.cos(x) / numpy.sin(x))\n",
    "\n",
    "def compute_y_run(last_y, last_f, h):  # yi+1 = yi + h/6 * (k1 + 2*k2 + 2*k3 + k4)\n",
    "    return last_f * (h / 6) + last_y\n"
   ]
  },
  {
   "cell_type": "markdown",
   "metadata": {},
   "source": [
    "## Compute x"
   ]
  },
  {
   "cell_type": "code",
   "execution_count": null,
   "metadata": {},
   "outputs": [],
   "source": [
    "def find_x(x0, X, h):\n",
    "    return numpy.linspace(x0, X, int((X - x0) / h) + 1)  # Create array of x values with step h\n"
   ]
  },
  {
   "cell_type": "markdown",
   "metadata": {},
   "source": [
    "## Exact solution of the given function"
   ]
  },
  {
   "cell_type": "code",
   "execution_count": null,
   "metadata": {},
   "outputs": [],
   "source": [
    "def exact(x0, y0, X, h):\n",
    "    x = find_x(x0, X, h)\n",
    "    c = (y0 + numpy.sin(x0) * numpy.cos(x0)) / numpy.sin(x0)  # initial value problem\n",
    "    y_exact = -numpy.sin(x) * numpy.cos(x) + c * numpy.sin(x)  # Compute y values\n",
    "    return y_exact\n"
   ]
  },
  {
   "cell_type": "markdown",
   "metadata": {},
   "source": [
    "## Computations for Euler method"
   ]
  },
  {
   "cell_type": "code",
   "execution_count": null,
   "metadata": {},
   "outputs": [],
   "source": [
    "def euler(x0, y0, X, h):\n",
    "    x = find_x(x0, X, h)\n",
    "    # Step 0\n",
    "    # Remember last computed value of yi\n",
    "    last_y = y0\n",
    "\n",
    "    # Remember last computed value of f\n",
    "    last_f = compute_f_euler(x0, y0)\n",
    "\n",
    "    # Create array of y(x) values\n",
    "    y_euler = [y0]\n",
    "\n",
    "    # Step 1..n\n",
    "    for xi in x[1:]:\n",
    "        # Compute y, remember it for the next step\n",
    "        last_y = compute_y_euler(last_y, last_f, h)\n",
    "        y_euler.append(last_y)\n",
    "\n",
    "        # Compute f, remember it for the next step\n",
    "        last_f = compute_f_euler(xi, last_y)\n",
    "    return y_euler\n"
   ]
  },
  {
   "cell_type": "markdown",
   "metadata": {},
   "source": [
    "## Computations for Improved Euler method"
   ]
  },
  {
   "cell_type": "code",
   "execution_count": null,
   "metadata": {},
   "outputs": [],
   "source": [
    "def euler_imp(x0, y0, X, h):\n",
    "    x = find_x(x0, X, h)\n",
    "    # Step 0\n",
    "    # Remember last computed value of yi\n",
    "    last_y_imp = y0\n",
    "\n",
    "    # Remember last computed value of f\n",
    "    last_f_imp = compute_f_euler_imp(x0 + (h / 2),\n",
    "                                     y0 + (h / 2) * compute_f_euler_imp(x0, y0))\n",
    "\n",
    "    # Create array of y(x) values\n",
    "    y_euler_imp = [y0]\n",
    "\n",
    "    # Step 1..n\n",
    "    for xi in x[1:]:\n",
    "        # Compute y, remember it for the next step\n",
    "        last_y_imp = compute_y_euler_imp(last_y_imp, last_f_imp, h)\n",
    "        y_euler_imp.append(last_y_imp)\n",
    "\n",
    "        # Compute f, remember it for the next step\n",
    "        last_f_imp = compute_f_euler_imp(xi + (h / 2),\n",
    "                                         last_y_imp + (h / 2) * compute_f_euler_imp(xi, last_y_imp))\n",
    "    return y_euler_imp\n"
   ]
  },
  {
   "cell_type": "markdown",
   "metadata": {},
   "source": [
    "## Computations for Runge-Kutta method"
   ]
  },
  {
   "cell_type": "code",
   "execution_count": null,
   "metadata": {},
   "outputs": [],
   "source": [
    "def runge_kutta(x0, y0, X, h):\n",
    "    x = find_x(x0, X, h)\n",
    "    # Step 0\n",
    "    # Remember last computed value of yi\n",
    "    last_y_run = y0\n",
    "\n",
    "    # Compute f = k1 + 2*k2 + 2*k3 + k4\n",
    "    k1 = compute_f_run(x0, y0)\n",
    "    k2 = compute_f_run(x0 + (h / 2), y0 + ((h * k1) / 2))\n",
    "    k3 = compute_f_run(x0 + (h / 2), y0 + ((h * k2) / 2))\n",
    "    k4 = compute_f_run(x0 + h, y0 + h * k3)\n",
    "\n",
    "    # Remember last computed value of f\n",
    "    last_f_run = k1 + (2 * k2) + (2 * k3) + k4\n",
    "\n",
    "    # Create array of y(x) values\n",
    "    y_run = [y0]\n",
    "\n",
    "    # Step 1..n\n",
    "    for xi in x[1:]:\n",
    "        # Compute y, remember it for the next step\n",
    "        last_y_run = compute_y_run(last_y_run, last_f_run, h)\n",
    "        y_run.append(last_y_run)\n",
    "\n",
    "        # Compute f = k1 + 2*k2 + 2*k3 + k4\n",
    "        k1 = compute_f_run(xi, last_y_run)\n",
    "        k2 = compute_f_run(xi + (h / 2), last_y_run + ((h * k1) / 2))\n",
    "        k3 = compute_f_run(xi + (h / 2), last_y_run + ((h * k2) / 2))\n",
    "        k4 = compute_f_run(xi + h, last_y_run + h * k3)\n",
    "\n",
    "        # Compute f, remember it for the next step\n",
    "        last_f_run = k1 + (2 * k2) + (2 * k3) + k4\n",
    "    return y_run\n"
   ]
  },
  {
   "cell_type": "markdown",
   "metadata": {},
   "source": [
    "## Compose the plot and errors"
   ]
  },
  {
   "cell_type": "code",
   "execution_count": null,
   "metadata": {
    "scrolled": false
   },
   "outputs": [],
   "source": [
    "output_notebook()"
   ]
  },
  {
   "cell_type": "code",
   "execution_count": null,
   "metadata": {
    "scrolled": true
   },
   "outputs": [],
   "source": [
    "x0 = 1\n",
    "y0 = 1\n",
    "X = 3\n",
    "h = 0.1\n",
    "\n",
    "x = find_x(x0, X, h)\n",
    "y_exact = exact(x0, y0, X, h)\n",
    "y_euler = euler(x0, y0, X, h)\n",
    "y_euler_imp = euler_imp(x0, y0, X, h)\n",
    "y_run = runge_kutta(x0, y0, X, h)\n",
    "\n",
    "# er_euler = abs(y_exact - y_euler)\n",
    "# er_euler_imp = abs(y_exact - y_euler_imp)\n",
    "# er_run = abs(y_exact - y_run)\n",
    "er_euler = y_exact - y_euler\n",
    "er_euler_imp = y_exact - y_euler_imp\n",
    "er_run = y_exact - y_run\n",
    "\n",
    "p1 = figure(title=\"Numerical methods\", x_axis_label='x', y_axis_label='y')\n",
    "\n",
    "a = p1.line(x, y_exact, legend=\"Exact solution\", line_width=2, line_color=\"#FF0000\")\n",
    "b = p1.line(x, y_euler, legend=\"Euler method\", line_width=2, line_color=\"#00FF00\")\n",
    "c = p1.line(x, y_euler_imp, legend=\"Improved Euler method\", line_width=2, line_color=\"#0000FF\")\n",
    "d = p1.line(x, y_run, legend=\"Runge-Kutta method\", line_width=2, line_color=\"#FF00FF\")\n",
    "\n",
    "p2 = figure(title=\"Errors of methods\", x_axis_label='x', y_axis_label='error')\n",
    "\n",
    "e = p2.line(x, er_euler, legend=\"Error of Euler\", line_width=2, line_color=\"#FF0000\")\n",
    "f = p2.line(x, er_euler_imp, legend=\"Error of improved Euler\", line_width=2, line_color=\"#00FF00\")\n",
    "g = p2.line(x, er_run, legend=\"Error of Runge-Kutta\", line_width=2, line_color=\"#0000FF\")\n",
    "\n",
    "p1.legend.click_policy = \"hide\"\n",
    "p2.legend.click_policy = \"hide\"\n",
    "p1.output_backend = \"svg\"\n",
    "p2.output_backend = \"svg\"\n",
    "\n",
    "export_svgs(p1, \"Numerical methods\")\n",
    "export_svgs(p2, \"Errors for methods\")"
   ]
  },
  {
   "cell_type": "markdown",
   "metadata": {},
   "source": [
    "## Update the plot"
   ]
  },
  {
   "cell_type": "code",
   "execution_count": null,
   "metadata": {},
   "outputs": [],
   "source": [
    "def update(InitialX='1', InitialY='1', MaxX='3', Step='0.1'):\n",
    "    if InitialX == '' or InitialY == '' or MaxX == '' or Step == '':\n",
    "        return\n",
    "    x0 = int(InitialX)\n",
    "    y0 = int(InitialY)\n",
    "    X = int(MaxX)\n",
    "    h = float(Step)\n",
    "    if X <= x0:\n",
    "        return\n",
    "    if h <= 0:\n",
    "        return\n",
    "    x = find_x(x0, X, h)\n",
    "    y_exact = exact(x0, y0, X, h)\n",
    "    y_euler = euler(x0, y0, X, h)\n",
    "    y_euler_imp = euler_imp(x0, y0, X, h)\n",
    "    y_run = runge_kutta(x0, y0, X, h)\n",
    "\n",
    "    # er_euler = abs(y_exact - y_euler)\n",
    "    # er_euler_imp = abs(y_exact - y_euler_imp)\n",
    "    # er_run = abs(y_exact - y_run)\n",
    "    er_euler = y_exact - y_euler\n",
    "    er_euler_imp = y_exact - y_euler_imp\n",
    "    er_run = y_exact - y_run\n",
    "\n",
    "    a_dict = {'x': x, 'y': y_exact}\n",
    "    b_dict = {'x': x, 'y': y_euler}\n",
    "    c_dict = {'x': x, 'y': y_euler_imp}\n",
    "    d_dict = {'x': x, 'y': y_run}\n",
    "\n",
    "    e_dict = {'x': x, 'y': er_euler}\n",
    "    f_dict = {'x': x, 'y': er_euler_imp}\n",
    "    g_dict = {'x': x, 'y': er_run}\n",
    "\n",
    "    a.data_source.data = a_dict\n",
    "    b.data_source.data = b_dict\n",
    "    c.data_source.data = c_dict\n",
    "    d.data_source.data = d_dict\n",
    "\n",
    "    e.data_source.data = e_dict\n",
    "    f.data_source.data = f_dict\n",
    "    g.data_source.data = g_dict\n",
    "\n",
    "    push_notebook()\n"
   ]
  },
  {
   "cell_type": "code",
   "execution_count": null,
   "metadata": {
    "scrolled": false
   },
   "outputs": [],
   "source": [
    "show(column(p1, p2), notebook_handle=True)\n"
   ]
  },
  {
   "cell_type": "code",
   "execution_count": null,
   "metadata": {
    "scrolled": true
   },
   "outputs": [],
   "source": [
    "interact(update, x0='1', y0='1', X='3', h='0.1')\n"
   ]
  }
 ],
 "metadata": {
  "kernelspec": {
   "display_name": "Python 3",
   "language": "python",
   "name": "python3"
  },
  "language_info": {
   "codemirror_mode": {
    "name": "ipython",
    "version": 3
   },
   "file_extension": ".py",
   "mimetype": "text/x-python",
   "name": "python",
   "nbconvert_exporter": "python",
   "pygments_lexer": "ipython3",
   "version": "3.7.0"
  }
 },
 "nbformat": 4,
 "nbformat_minor": 1
}
